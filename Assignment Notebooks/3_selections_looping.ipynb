{
 "cells": [
  {
   "cell_type": "markdown",
   "id": "6bd64481",
   "metadata": {},
   "source": [
    "#### Selections and Looping"
   ]
  },
  {
   "cell_type": "markdown",
   "id": "24bc17b6",
   "metadata": {},
   "source": [
    "Objectives\n",
    "- decide whether to execute actions with if, if..elif..else, and if..else\n",
    "- execute statements repeatedly with for and while\n",
    "- use augmented assignment\n",
    "- use the range function and its parameters\n",
    "- perform sentinel control in a while loop\n",
    "- create complex conditionals\n",
    "- stop looping with break and force next iteration with continue"
   ]
  },
  {
   "cell_type": "raw",
   "id": "69301c8f",
   "metadata": {
    "vscode": {
     "languageId": "raw"
    }
   },
   "source": [
    "if, if/else, if/elif/else\n",
    "\n",
    "Selections in python\n",
    "if <conditional>:\n",
    "    statement\n",
    "else: \n",
    "    statement\n",
    "\n",
    "if <conditional>:\n",
    "    statement\n",
    "elif <conditional>:\n",
    "    statement\n",
    "elif <conditional>\"\n",
    "    statement\n",
    "else:\n",
    "    statement\n"
   ]
  },
  {
   "cell_type": "code",
   "execution_count": 2,
   "id": "c8cae2fa",
   "metadata": {},
   "outputs": [
    {
     "name": "stdout",
     "output_type": "stream",
     "text": [
      "C\n"
     ]
    }
   ],
   "source": [
    "# if, if/else, if/elif/else\n",
    "def main():\n",
    "    '''ask use for a grade and provide the letter grade that is associated'''\n",
    "    grade = eval(input(\"Enter the student grade \"))\n",
    "    if grade >= 90:\n",
    "        print(\"A\")\n",
    "    elif grade >= 80:\n",
    "        print(\"B\")\n",
    "    elif grade >= 70:\n",
    "        print(\"C\")\n",
    "    elif grade >= 60:\n",
    "        print(\"D\")\n",
    "    else:\n",
    "        print(\"F\")\n",
    "\n",
    "main()"
   ]
  },
  {
   "cell_type": "code",
   "execution_count": null,
   "id": "a5bb9098",
   "metadata": {},
   "outputs": [
    {
     "name": "stdout",
     "output_type": "stream",
     "text": [
      "WIENERRRR\n",
      "rock\n",
      "penis\n"
     ]
    }
   ],
   "source": [
    "# write a program that determines the result of a rock paper scissors game\n",
    "# use the random_throw() function to get a random choice of rock paper scissors from the computer\n",
    "# \n",
    "import random as rand\n",
    "\n",
    "def random_throw():\n",
    "    '''selects a random item from rock, paper, scissors\n",
    "    returns string to user''' \n",
    "    choices = ['rock', 'paper', 'scissors']\n",
    "    return rand.choice(choices)\n",
    "\n",
    "\n",
    "# print(random_throw()) # successful test random_throw()\n",
    "\n",
    "def main():\n",
    "    '''rock paper scissors'''\n",
    "    computer_choice = random_throw()\n",
    "    user_choice = input(\"enter rock paper or scossors\")\n",
    "    if computer_choice == user_choice:\n",
    "        print(\"tie you both chose:\", computer_choice, user_choice)\n",
    "    elif computer_choice == \"scissors\" and user_choice == \"rock\":\n",
    "        print(\"You win!\")\n",
    "    elif computer_choice == \"scissors\" and user_choice == \"paper\":\n",
    "        print(\"You lose!\")\n",
    "    elif computer_choice == \"rock\" and user_choice == \"paper\":\n",
    "        print(\"You win!\")\n",
    "    elif computer_choice == \"rock\" and user_choice == \"scissors\":\n",
    "        print(\"You lose!\")\n",
    "    elif computer_choice == \"paper\" and user_choice == \"scissors\":\n",
    "        print(\"You win!\")\n",
    "    elif computer_choice == \"paper\" and user_choice == \"rock\":\n",
    "        print(\"You lose!\")\n",
    "    print(computer_choice)\n",
    "    print(user_choice)\n",
    "\n",
    "main()"
   ]
  },
  {
   "cell_type": "markdown",
   "id": "45eaa2d9",
   "metadata": {},
   "source": [
    "#### range()\n",
    "\n",
    "We can use the range() function to create lists based on a range of numbers\n",
    "\n",
    "range(stop) - upto but not including stop\n",
    "- default start 0\n",
    "- default step 1\n",
    "\n",
    "range(start,stop,step)\n",
    "- start: beginning of list\n",
    "- stop: up to but not including this number\n",
    "- step: the count up or down"
   ]
  },
  {
   "cell_type": "code",
   "execution_count": 25,
   "id": "96d1537e",
   "metadata": {},
   "outputs": [
    {
     "name": "stdout",
     "output_type": "stream",
     "text": [
      "[0, 1, 2, 3, 4, 5, 6, 7, 8, 9]\n"
     ]
    }
   ],
   "source": [
    "# range()\n",
    "print(list(range(10)))\n"
   ]
  },
  {
   "cell_type": "code",
   "execution_count": 64,
   "id": "3d0d39d1",
   "metadata": {},
   "outputs": [
    {
     "name": "stdout",
     "output_type": "stream",
     "text": [
      "[100, 98, 96, 94, 92, 90, 88, 86, 84, 82, 80, 78, 76, 74, 72, 70, 68, 66, 64, 62, 60, 58, 56, 54, 52, 50, 48, 46, 44, 42, 40, 38, 36, 34, 32, 30, 28, 26, 24, 22, 20, 18, 16, 14, 12, 10, 8, 6, 4, 2]\n"
     ]
    }
   ],
   "source": [
    "### display the numbers starting at 100 and going to 2 counting down by 2\n",
    "p = range(100, 1, -2)\n",
    "print(list(p))\n",
    "\n"
   ]
  },
  {
   "cell_type": "markdown",
   "id": "f69229ae",
   "metadata": {},
   "source": [
    "#### for\n",
    "\n",
    "for <val> in <iterable>:\n",
    "    body\n",
    "\n",
    "The for loop will iterate for as many items are in the iterable\n",
    "\n",
    "Iterables can be - lists or strings4"
   ]
  },
  {
   "cell_type": "code",
   "execution_count": 28,
   "id": "5a65cc3f",
   "metadata": {},
   "outputs": [
    {
     "name": "stdout",
     "output_type": "stream",
     "text": [
      "a\n",
      "b\n",
      "c\n"
     ]
    }
   ],
   "source": [
    "# for\n",
    "for i in 'abc':\n",
    "    print(i)"
   ]
  },
  {
   "cell_type": "code",
   "execution_count": null,
   "id": "9abda154",
   "metadata": {},
   "outputs": [
    {
     "name": "stdout",
     "output_type": "stream",
     "text": [
      "120\n"
     ]
    }
   ],
   "source": [
    "# calculate a factorial with a for loop\n",
    "def main():\n",
    "    num_ = eval(input(\"enter a number\"))\n",
    "    rp = 1\n",
    "    # for num in range(1, num_ + 1): #counting up\n",
    "    for num in range(num_, 0, -1): #counting down\n",
    "        rp = rp * num\n",
    "    print(rp)\n",
    "main()\n",
    "        \n",
    "    \n",
    "\n",
    "    \n",
    "\n"
   ]
  },
  {
   "cell_type": "markdown",
   "id": "66e4d5a9",
   "metadata": {},
   "source": [
    "#### while\n",
    "\n",
    "while <conditional>:\n",
    "    body\n",
    "\n",
    "In the body of a while loop, you must get closer to making the conditional false\n"
   ]
  },
  {
   "cell_type": "code",
   "execution_count": 42,
   "id": "03610044",
   "metadata": {},
   "outputs": [
    {
     "name": "stdout",
     "output_type": "stream",
     "text": [
      "10\n",
      "9\n",
      "8\n",
      "7\n",
      "6\n",
      "5\n",
      "4\n",
      "3\n",
      "2\n"
     ]
    }
   ],
   "source": [
    "# while\n",
    "a = 10\n",
    "while a > 1:\n",
    "    print(a)\n",
    "    a = a - 1\n"
   ]
  },
  {
   "cell_type": "code",
   "execution_count": 44,
   "id": "6b83815d",
   "metadata": {},
   "outputs": [
    {
     "name": "stdout",
     "output_type": "stream",
     "text": [
      "24\n"
     ]
    }
   ],
   "source": [
    "# calculate a factorial with a whle loop\n",
    "def main():\n",
    "    num = eval(input(\"enter a number\"))\n",
    "    fact = 1\n",
    "    while num > 0:\n",
    "        fact = fact * num\n",
    "        num = num - 1\n",
    "    print(fact)\n",
    "main()\n",
    "\n",
    "    "
   ]
  },
  {
   "cell_type": "code",
   "execution_count": 46,
   "id": "dd711dc2",
   "metadata": {},
   "outputs": [
    {
     "name": "stdout",
     "output_type": "stream",
     "text": [
      "a is 6\n",
      "b is 7\n"
     ]
    }
   ],
   "source": [
    "# augmented assignment\n",
    "a = 5\n",
    "a = a + 1\n",
    "print(\"a is\", a)\n",
    "\n",
    "# is the same as\n",
    "b = 5\n",
    "b += 2\n",
    "print(\"b is\", b)"
   ]
  },
  {
   "cell_type": "markdown",
   "id": "cce7d78b",
   "metadata": {},
   "source": [
    "#### sentinel control\n",
    "\n",
    "Sentinels are a special value that signals the terminal of a loop\n",
    "\n",
    "go = \"Y\"\n",
    "while go == \"Y\":\n",
    "    body\n",
    "    go = input(\"continue? Y or N\")\n",
    "    "
   ]
  },
  {
   "cell_type": "code",
   "execution_count": 3,
   "id": "a07f5457",
   "metadata": {},
   "outputs": [
    {
     "name": "stdout",
     "output_type": "stream",
     "text": [
      "continued\n",
      "continued\n",
      "continued\n",
      "ended\n"
     ]
    }
   ],
   "source": [
    "# sentinel control in a while loop\n",
    "\n",
    "go = \"Y\"\n",
    "while go == \"Y\":\n",
    "    print(\"continued\")\n",
    "    go = input(\"continue? Y or N\")\n",
    "print(\"ended\")\n"
   ]
  },
  {
   "cell_type": "code",
   "execution_count": 57,
   "id": "46179dac",
   "metadata": {},
   "outputs": [
    {
     "name": "stdout",
     "output_type": "stream",
     "text": [
      "45\n",
      "40\n",
      "35\n",
      "30\n",
      "25\n",
      "ended\n"
     ]
    }
   ],
   "source": [
    "## write a function that accepts a user number and diplays that number * 5\n",
    "## it must use sentinel control, asking the user if they want to continue\n",
    "def main():\n",
    "    go = \"Y\"\n",
    "    while go == \"Y\":\n",
    "        num = eval(input(\"enter a number\"))\n",
    "        num = num * 5\n",
    "        print(num)\n",
    "        go = input(\"continue? Y or N\")\n",
    "    print(\"ended\")\n",
    "main()"
   ]
  },
  {
   "cell_type": "markdown",
   "id": "44fb885c",
   "metadata": {},
   "source": [
    "#### Nested control\n",
    "\n",
    "for i in <iterable>:\n",
    "    if <conditional>:\n",
    "        do something\n",
    "    else:\n",
    "        do something else\n",
    "\n",
    "Remember, indentation is important"
   ]
  },
  {
   "cell_type": "code",
   "execution_count": 66,
   "id": "19e9c0a6",
   "metadata": {},
   "outputs": [
    {
     "name": "stdout",
     "output_type": "stream",
     "text": [
      "1 is odd\n",
      "2 is even\n",
      "3 is odd\n",
      "4 is even\n",
      "5 is odd\n",
      "6 is even\n",
      "7 is odd\n"
     ]
    }
   ],
   "source": [
    "### Write a function that sorts a list of numbers into even and odds. The list should be generated with range()\n",
    "def main():\n",
    "    user_number = eval(input(\"enter a number\"))\n",
    "    for i in range(1,user_number + 1):\n",
    "        if i % 2 == 0:\n",
    "            print(i, \"is even\")\n",
    "        else:\n",
    "            print(i, \"is odd\")\n",
    "main()"
   ]
  },
  {
   "cell_type": "markdown",
   "id": "911cee10",
   "metadata": {},
   "source": [
    "#### break\n",
    "\n",
    "break is used to stop iteration immediately - the loop discontinues at the break point"
   ]
  },
  {
   "cell_type": "code",
   "execution_count": 68,
   "id": "3cba881d",
   "metadata": {},
   "outputs": [
    {
     "name": "stdout",
     "output_type": "stream",
     "text": [
      "an iteration\n",
      "1\n",
      "an iteration\n",
      "2\n",
      "an iteration\n",
      "3\n",
      "an iteration\n",
      "4\n",
      "an iteration\n"
     ]
    }
   ],
   "source": [
    "# break\n",
    "\n",
    "alist = [1,2,3,4,-1,6,7]\n",
    "for i in alist:\n",
    "    print(\"an iteration\")\n",
    "    if i > 0:\n",
    "        print(i)\n",
    "    else:\n",
    "        break\n",
    "        print(\"we'll never see this print because the break stop the iteration\")\n"
   ]
  },
  {
   "cell_type": "code",
   "execution_count": 69,
   "id": "32548f2f",
   "metadata": {},
   "outputs": [
    {
     "name": "stdout",
     "output_type": "stream",
     "text": [
      "an iteration\n",
      "1\n",
      "an iteration\n",
      "2\n",
      "an iteration\n",
      "3\n",
      "an iteration\n",
      "4\n",
      "an iteration\n",
      "5\n",
      "an iteration\n",
      "we finish the iteration after the sentinel change - we have to make the while conditional false\n"
     ]
    }
   ],
   "source": [
    "# comparing break and sentinel control\n",
    "cont = \"Y\"\n",
    "num = 1\n",
    "while cont ==\"Y\":\n",
    "    print(\"an iteration\")\n",
    "    if num <= 5:\n",
    "        print(num)\n",
    "        num = num + 1\n",
    "    else:\n",
    "        cont = \"N\"\n",
    "        print(\"we finish the iteration after the sentinel change - we have to make the while conditional false\")\n"
   ]
  },
  {
   "cell_type": "markdown",
   "id": "e4c0a67b",
   "metadata": {},
   "source": [
    "#### continue\n",
    "\n",
    "continue is used to force the next iteration at that point"
   ]
  },
  {
   "cell_type": "code",
   "execution_count": 71,
   "id": "a47c9ff7",
   "metadata": {},
   "outputs": [
    {
     "name": "stdout",
     "output_type": "stream",
     "text": [
      "12_11_10_9_"
     ]
    }
   ],
   "source": [
    "a = 12\n",
    "while a > 8:\n",
    "\tprint(a, end = \"_\")\n",
    "\ta = a - 1"
   ]
  },
  {
   "cell_type": "code",
   "execution_count": 74,
   "id": "3ea2cb55",
   "metadata": {},
   "outputs": [
    {
     "name": "stdout",
     "output_type": "stream",
     "text": [
      "an iteration\n",
      "1\n",
      "an iteration\n",
      "2\n",
      "an iteration\n",
      "3\n",
      "an iteration\n",
      "4\n",
      "an iteration\n",
      "oh no! a negative number was detected\n",
      "an iteration\n",
      "6\n",
      "an iteration\n",
      "7\n"
     ]
    }
   ],
   "source": [
    "alist = [1,2,3,4,-1,6,7]\n",
    "for i in alist:\n",
    "    print(\"an iteration\")\n",
    "    if i > 0:\n",
    "        print(i)\n",
    "    else:\n",
    "        print(\"oh no! a negative number was detected\")\n",
    "        continue\n",
    "        #print(\"we'll never see this print because the continue goes directly to the next iteration\")"
   ]
  },
  {
   "cell_type": "code",
   "execution_count": 14,
   "id": "739a601d",
   "metadata": {},
   "outputs": [
    {
     "name": "stdout",
     "output_type": "stream",
     "text": [
      "2 is lowest and 10 is greatest\n",
      "16\n",
      "80\n"
     ]
    }
   ],
   "source": [
    "def main():\n",
    "    a = eval(input(\"enter a number\"))\n",
    "    b = eval(input(\"enter a number\"))\n",
    "    c = eval(input(\"enter a number\"))\n",
    "    sum = a+b+c\n",
    "    product = a*b*c\n",
    "    if a<b<c:\n",
    "        print(a, \"is lowest and\", c, \"is greatest\")\n",
    "    elif a<c<b:\n",
    "        print(a, \"is lowest and\", b, \"is greatest\")\n",
    "    elif b<a<c:\n",
    "        print(b, \"is lowest and\", c, \"is greatest\")\n",
    "    elif b<c<a:\n",
    "        print(b, \"is lowest and\", a, \"is greatest\")\n",
    "    elif c<a<b:\n",
    "        print(c, \"is lowest and\", b, \"is greatest\")\n",
    "    elif c<b<a:\n",
    "        print(c, \"is lowest and\", a, \"is greatest\")\n",
    "    print(sum)\n",
    "    print(product)\n",
    "main()"
   ]
  },
  {
   "cell_type": "code",
   "execution_count": 27,
   "id": "df9e54a1",
   "metadata": {},
   "outputs": [
    {
     "name": "stdout",
     "output_type": "stream",
     "text": [
      "3.1415926585894076\n"
     ]
    }
   ],
   "source": [
    "def main():\n",
    "    i = eval(input(\"enter a number\"))\n",
    "    n = 1\n",
    "    pi_ = 4\n",
    "    x = 3\n",
    "    while n < i:\n",
    "        pi_ = pi_ - 4/x\n",
    "        x = x+2\n",
    "        pi_ = pi_ + 4/x\n",
    "        x = x+2\n",
    "        n = n+1\n",
    "    print(pi_)\n",
    "main()\n",
    "    \n"
   ]
  }
 ],
 "metadata": {
  "kernelspec": {
   "display_name": "Python 3",
   "language": "python",
   "name": "python3"
  },
  "language_info": {
   "codemirror_mode": {
    "name": "ipython",
    "version": 3
   },
   "file_extension": ".py",
   "mimetype": "text/x-python",
   "name": "python",
   "nbconvert_exporter": "python",
   "pygments_lexer": "ipython3",
   "version": "3.13.7"
  }
 },
 "nbformat": 4,
 "nbformat_minor": 5
}
